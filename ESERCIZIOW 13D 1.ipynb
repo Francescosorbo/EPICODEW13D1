{
 "cells": [
  {
   "cell_type": "code",
   "execution_count": 2,
   "id": "b39b2b65-7d31-4d55-a3a2-3550de6f15ec",
   "metadata": {},
   "outputs": [
    {
     "name": "stdout",
     "output_type": "stream",
     "text": [
      "25\n"
     ]
    }
   ],
   "source": [
    "studenti = 25 \n",
    "print (studenti)"
   ]
  },
  {
   "cell_type": "code",
   "execution_count": 6,
   "id": "0fda4a44-e34c-4675-a3f9-b042dad87f8e",
   "metadata": {},
   "outputs": [
    {
     "name": "stdout",
     "output_type": "stream",
     "text": [
      "3\n"
     ]
    }
   ],
   "source": [
    "nuovi_studenti = 3\n",
    "print (nuovi_studenti)"
   ]
  },
  {
   "cell_type": "code",
   "execution_count": 8,
   "id": "95834f66-1cb8-4df3-b20f-602f6ed7dbe3",
   "metadata": {},
   "outputs": [
    {
     "name": "stdout",
     "output_type": "stream",
     "text": [
      "28\n"
     ]
    }
   ],
   "source": [
    "totale_studenti = studenti + nuovi_studenti\n",
    "print (totale_studenti)"
   ]
  },
  {
   "cell_type": "code",
   "execution_count": 83,
   "id": "fe1e87ef-77a8-4660-b625-94ac6169a1b3",
   "metadata": {},
   "outputs": [
    {
     "name": "stdout",
     "output_type": "stream",
     "text": [
      "Epicode\n"
     ]
    },
    {
     "data": {
      "text/plain": [
       "'EPICODE'"
      ]
     },
     "execution_count": 83,
     "metadata": {},
     "output_type": "execute_result"
    }
   ],
   "source": [
    "nome_scuola = \"Epicode\"\n",
    "print (nome_scuola)\n",
    "nome_scuola.upper ()"
   ]
  },
  {
   "cell_type": "code",
   "execution_count": 12,
   "id": "be9c4f67-65f5-4d8b-9a11-89469e7155a0",
   "metadata": {},
   "outputs": [],
   "source": [
    "x = 10\n",
    "x += 2\n",
    "x *= 3"
   ]
  },
  {
   "cell_type": "code",
   "execution_count": 79,
   "id": "b82da3f8-7232-4717-a8dd-59815433515b",
   "metadata": {},
   "outputs": [
    {
     "name": "stdout",
     "output_type": "stream",
     "text": [
      "36\n"
     ]
    }
   ],
   "source": [
    "print (x)"
   ]
  },
  {
   "cell_type": "code",
   "execution_count": 21,
   "id": "2dc520c2-0b37-455d-97df-e8a5627522b2",
   "metadata": {},
   "outputs": [
    {
     "data": {
      "text/plain": [
       "7"
      ]
     },
     "execution_count": 21,
     "metadata": {},
     "output_type": "execute_result"
    }
   ],
   "source": [
    "str1 = \"windows\"\n",
    "len(str1)"
   ]
  },
  {
   "cell_type": "code",
   "execution_count": 23,
   "id": "c0a2e42c-e3b9-4ef1-8bb3-ef4f0a9dc8cd",
   "metadata": {},
   "outputs": [
    {
     "data": {
      "text/plain": [
       "5"
      ]
     },
     "execution_count": 23,
     "metadata": {},
     "output_type": "execute_result"
    }
   ],
   "source": [
    "str2 = \"excel\"\n",
    "len(str2)"
   ]
  },
  {
   "cell_type": "code",
   "execution_count": 25,
   "id": "daa5726d-1462-4f70-839a-fb95e0916333",
   "metadata": {},
   "outputs": [
    {
     "data": {
      "text/plain": [
       "10"
      ]
     },
     "execution_count": 25,
     "metadata": {},
     "output_type": "execute_result"
    }
   ],
   "source": [
    "str3 = \"powerpoint\"\n",
    "len(str3)"
   ]
  },
  {
   "cell_type": "code",
   "execution_count": 27,
   "id": "ff67edf3-7d23-4b7d-82d3-223831295cf4",
   "metadata": {},
   "outputs": [
    {
     "data": {
      "text/plain": [
       "4"
      ]
     },
     "execution_count": 27,
     "metadata": {},
     "output_type": "execute_result"
    }
   ],
   "source": [
    "str4 = \"word\"\n",
    "len(str4)"
   ]
  },
  {
   "cell_type": "code",
   "execution_count": 33,
   "id": "3434dbb5-4760-4924-a893-8662974b7074",
   "metadata": {},
   "outputs": [
    {
     "name": "stdout",
     "output_type": "stream",
     "text": [
      "31536000\n"
     ]
    },
    {
     "data": {
      "text/plain": [
       "31536000"
      ]
     },
     "execution_count": 33,
     "metadata": {},
     "output_type": "execute_result"
    }
   ],
   "source": [
    "giorni_anno = 365\n",
    "ore_giorni = 24\n",
    "minuti_ore = 60\n",
    "secondi_minuti = 60\n",
    "\n",
    "ore_anno = ore_giorni * giorni_anno\n",
    "minuti_anno = minuti_ore * ore_anno\n",
    "secondi_anno = secondi_minuti * minuti_anno\n",
    "print (secondi_anno)\n",
    "\n",
    "\n",
    "365 * 24 * 60 * 60"
   ]
  },
  {
   "cell_type": "code",
   "execution_count": 87,
   "id": "c6a8a8f4-4284-49ee-ba5f-6ed0c069a438",
   "metadata": {},
   "outputs": [
    {
     "data": {
      "text/plain": [
       "' IO STO STUDIANDO PHYTON '"
      ]
     },
     "execution_count": 87,
     "metadata": {},
     "output_type": "execute_result"
    }
   ],
   "source": [
    "la_mia_stringa = \" io sto studiando phyton \"\n",
    "la_mia_stringa.upper ()"
   ]
  },
  {
   "cell_type": "code",
   "execution_count": 89,
   "id": "5b0682b7-1eee-4734-90d6-f89d02b6b277",
   "metadata": {},
   "outputs": [
    {
     "data": {
      "text/plain": [
       "' io sto studiando phyton '"
      ]
     },
     "execution_count": 89,
     "metadata": {},
     "output_type": "execute_result"
    }
   ],
   "source": [
    "la_mia_stringa.lower()"
   ]
  },
  {
   "cell_type": "code",
   "execution_count": 91,
   "id": "791e8965-6ffe-4957-aa5e-7ae54d22dc65",
   "metadata": {},
   "outputs": [
    {
     "data": {
      "text/plain": [
       "' io sto studiando molto '"
      ]
     },
     "execution_count": 91,
     "metadata": {},
     "output_type": "execute_result"
    }
   ],
   "source": [
    "la_mia_stringa.replace(\"phyton\", \"molto\")"
   ]
  },
  {
   "cell_type": "code",
   "execution_count": 93,
   "id": "febcfd21-ac7b-447a-b61f-0038a1ac17c5",
   "metadata": {},
   "outputs": [
    {
     "data": {
      "text/plain": [
       "'io sto studiando phyton'"
      ]
     },
     "execution_count": 93,
     "metadata": {},
     "output_type": "execute_result"
    }
   ],
   "source": [
    "la_mia_stringa.strip()"
   ]
  },
  {
   "cell_type": "code",
   "execution_count": null,
   "id": "72fff6ba-46ae-4efc-a0dc-865df73c0a24",
   "metadata": {},
   "outputs": [],
   "source": []
  }
 ],
 "metadata": {
  "kernelspec": {
   "display_name": "Python 3 (ipykernel)",
   "language": "python",
   "name": "python3"
  },
  "language_info": {
   "codemirror_mode": {
    "name": "ipython",
    "version": 3
   },
   "file_extension": ".py",
   "mimetype": "text/x-python",
   "name": "python",
   "nbconvert_exporter": "python",
   "pygments_lexer": "ipython3",
   "version": "3.11.7"
  }
 },
 "nbformat": 4,
 "nbformat_minor": 5
}
